{
  "nbformat": 4,
  "nbformat_minor": 0,
  "metadata": {
    "colab": {
      "name": "Openpose Final Build by Manual Download Caffe Models .ipynb",
      "provenance": [],
      "toc_visible": true,
      "mount_file_id": "1vtAHo_l0AWswFOBEw_HuVq0MAdAFD95j",
      "authorship_tag": "ABX9TyPbYCD20/j3AadByqTwOkrP",
      "include_colab_link": true
    },
    "kernelspec": {
      "name": "python3",
      "display_name": "Python 3"
    },
    "accelerator": "GPU"
  },
  "cells": [
    {
      "cell_type": "markdown",
      "metadata": {
        "id": "view-in-github",
        "colab_type": "text"
      },
      "source": [
        "<a href=\"https://colab.research.google.com/github/momo2941998/Openpose/blob/master/Openpose_Final_Build_by_Manual_Download_Caffe_Models_.ipynb\" target=\"_parent\"><img src=\"https://colab.research.google.com/assets/colab-badge.svg\" alt=\"Open In Colab\"/></a>"
      ]
    },
    {
      "cell_type": "markdown",
      "metadata": {
        "id": "se14P9GwdXLy",
        "colab_type": "text"
      },
      "source": [
        "# **delete openpose**"
      ]
    },
    {
      "cell_type": "code",
      "metadata": {
        "id": "XOUVwtpsV5Iq",
        "colab_type": "code",
        "colab": {}
      },
      "source": [
        "rm -rf openpose/"
      ],
      "execution_count": 0,
      "outputs": []
    },
    {
      "cell_type": "markdown",
      "metadata": {
        "id": "WWVXOJApdcxV",
        "colab_type": "text"
      },
      "source": [
        "# **set up cmake 3.13.0**"
      ]
    },
    {
      "cell_type": "code",
      "metadata": {
        "id": "4dJKwUUnSHRD",
        "colab_type": "code",
        "colab": {}
      },
      "source": [
        "!wget -q https://cmake.org/files/v3.13/cmake-3.13.0-Linux-x86_64.tar.gz\n",
        "!tar xfz cmake-3.13.0-Linux-x86_64.tar.gz --strip-components=1 -C /usr/local"
      ],
      "execution_count": 0,
      "outputs": []
    },
    {
      "cell_type": "markdown",
      "metadata": {
        "id": "96x9bMEDdnn2",
        "colab_type": "text"
      },
      "source": [
        "# **clone repo openpose**"
      ]
    },
    {
      "cell_type": "code",
      "metadata": {
        "id": "0N-E2qAwT6jF",
        "colab_type": "code",
        "colab": {}
      },
      "source": [
        "!git clone -q --depth 1 https://github.com/CMU-Perceptual-Computing-Lab/openpose.git"
      ],
      "execution_count": 0,
      "outputs": []
    },
    {
      "cell_type": "markdown",
      "metadata": {
        "id": "_XvJWTNkd6v7",
        "colab_type": "text"
      },
      "source": [
        "# change command suitable"
      ]
    },
    {
      "cell_type": "code",
      "metadata": {
        "id": "e_BiEzeBSYfT",
        "colab_type": "code",
        "colab": {}
      },
      "source": [
        "!sed -i 's/execute_process(COMMAND git checkout master WORKING_DIRECTORY ${CMAKE_SOURCE_DIR}\\/3rdparty\\/caffe)/execute_process(COMMAND git checkout f019d0dfe86f49d1140961f8c7dec22130c83154 WORKING_DIRECTORY ${CMAKE_SOURCE_DIR}\\/3rdparty\\/caffe)/g' openpose/CMakeLists.txt"
      ],
      "execution_count": 0,
      "outputs": []
    },
    {
      "cell_type": "markdown",
      "metadata": {
        "id": "5NxBiymqeRDV",
        "colab_type": "text"
      },
      "source": [
        "# install system dependencies"
      ]
    },
    {
      "cell_type": "code",
      "metadata": {
        "id": "G7LEQ_oxUCYH",
        "colab_type": "code",
        "colab": {}
      },
      "source": [
        "!apt-get -qq install -y libatlas-base-dev libprotobuf-dev libleveldb-dev libsnappy-dev libhdf5-serial-dev protobuf-compiler libgflags-dev libgoogle-glog-dev liblmdb-dev opencl-headers ocl-icd-opencl-dev libviennacl-dev"
      ],
      "execution_count": 0,
      "outputs": []
    },
    {
      "cell_type": "markdown",
      "metadata": {
        "id": "Qa2HdIQBeWs5",
        "colab_type": "text"
      },
      "source": [
        "# install python dependencies"
      ]
    },
    {
      "cell_type": "code",
      "metadata": {
        "id": "FfQGg5W3UNz1",
        "colab_type": "code",
        "colab": {}
      },
      "source": [
        "!pip install -q youtube-dl"
      ],
      "execution_count": 0,
      "outputs": []
    },
    {
      "cell_type": "markdown",
      "metadata": {
        "id": "WsQvM7v_ebCy",
        "colab_type": "text"
      },
      "source": [
        "# build openpose\n",
        "but occur some bugs of caffe's models"
      ]
    },
    {
      "cell_type": "code",
      "metadata": {
        "id": "TfuN5e-LUiow",
        "colab_type": "code",
        "colab": {}
      },
      "source": [
        "!cd openpose && rm -rf build || true && mkdir build && cd build && cmake .."
      ],
      "execution_count": 0,
      "outputs": []
    },
    {
      "cell_type": "code",
      "metadata": {
        "id": "0HdXJRe0Vagg",
        "colab_type": "code",
        "colab": {}
      },
      "source": [
        "#!cd openpose/ &&  git submodule update --init --recursive --remote"
      ],
      "execution_count": 0,
      "outputs": []
    },
    {
      "cell_type": "markdown",
      "metadata": {
        "id": "HoEA8Tqgemeo",
        "colab_type": "text"
      },
      "source": [
        "# Copy models from Drive to fix bugs\n",
        "NOTE: mount drive before"
      ]
    },
    {
      "cell_type": "code",
      "metadata": {
        "id": "oZ_-Q8swW3v4",
        "colab_type": "code",
        "colab": {}
      },
      "source": [
        "! cp drive/My\\ Drive/openpose_model/pose_iter_584000.caffemodel openpose/models/pose/body_25/\n",
        "! cp drive/My\\ Drive/openpose_model/pose_iter_102000.caffemodel openpose/models/hand/\n",
        "! cp drive/My\\ Drive/openpose_model/pose_iter_116000.caffemodel openpose/models/face/"
      ],
      "execution_count": 0,
      "outputs": []
    },
    {
      "cell_type": "markdown",
      "metadata": {
        "id": "SWTS-0bpe2NE",
        "colab_type": "text"
      },
      "source": [
        "## and Rebuild with models downloaded"
      ]
    },
    {
      "cell_type": "code",
      "metadata": {
        "id": "F3hhaUzZU2ME",
        "colab_type": "code",
        "colab": {}
      },
      "source": [
        "!cd openpose && rm -rf build || true && mkdir build && cd build && cmake ..\n",
        "!cd openpose/build/ && make -j`nproc`"
      ],
      "execution_count": 0,
      "outputs": []
    },
    {
      "cell_type": "markdown",
      "metadata": {
        "id": "tn9mbAtMfRqz",
        "colab_type": "text"
      },
      "source": [
        "**import YoutubeVideo**"
      ]
    },
    {
      "cell_type": "code",
      "metadata": {
        "id": "4LSnSpHDfQv1",
        "colab_type": "code",
        "colab": {}
      },
      "source": [
        "from IPython.display import YouTubeVideo"
      ],
      "execution_count": 0,
      "outputs": []
    },
    {
      "cell_type": "markdown",
      "metadata": {
        "id": "1eMiiDj7fbUT",
        "colab_type": "text"
      },
      "source": [
        "# Detect poses on a test video\n",
        "We are going to detect poses on the following youtube video:"
      ]
    },
    {
      "cell_type": "code",
      "metadata": {
        "id": "5eV33_KufhBn",
        "colab_type": "code",
        "colab": {}
      },
      "source": [
        "YOUTUBE_ID = 'GZR0mM42dms'\n",
        "\n",
        "\n",
        "YouTubeVideo(YOUTUBE_ID)"
      ],
      "execution_count": 0,
      "outputs": []
    },
    {
      "cell_type": "markdown",
      "metadata": {
        "id": "vffCLLalfkI-",
        "colab_type": "text"
      },
      "source": [
        "Download the above youtube video, cut the first 30 seconds and do the pose detection on that 30 seconds:"
      ]
    },
    {
      "cell_type": "code",
      "metadata": {
        "id": "3faK-s0Kfm-5",
        "colab_type": "code",
        "colab": {}
      },
      "source": [
        "# delete old data\n",
        "!rm -rf youtube.mp4\n",
        "!rm -rf openpose/output/\n",
        "!rm openpose.avi\n",
        "!mkdir openpose/output/\n",
        "!mkdir openpose/output/json\n",
        "!mkdir openpose/output/video\n",
        "\n",
        "# download the youtube with the given ID\n",
        "!youtube-dl -f 'bestvideo[ext=mp4]' --output \"youtube.%(ext)s\" https://www.youtube.com/watch?v=$YOUTUBE_ID\n",
        "\n",
        "# cut the first 30 seconds\n",
        "!ffmpeg -y -loglevel info -i youtube.mp4 -t 30 input.mp4\n",
        "# detect poses on the these 30 seconds\n",
        "!cd openpose && ./build/examples/openpose/openpose.bin --video ../input.mp4 --write_json ./output/json/ --display 0  --write_video ../openpose.avi --hand\n",
        "\n",
        "# convert the result into MP4\n",
        "!ffmpeg -y -loglevel info -i openpose.avi openpose/output/video/output.mp4"
      ],
      "execution_count": 0,
      "outputs": []
    },
    {
      "cell_type": "markdown",
      "metadata": {
        "id": "LHOfJ-8QfqPJ",
        "colab_type": "text"
      },
      "source": [
        "Finally, visualize the result:"
      ]
    },
    {
      "cell_type": "code",
      "metadata": {
        "id": "kwDunKVYfsg_",
        "colab_type": "code",
        "colab": {}
      },
      "source": [
        "def show_local_mp4_video(file_name, width=640, height=480):\n",
        "  import io\n",
        "  import base64\n",
        "  from IPython.display import HTML\n",
        "  video_encoded = base64.b64encode(io.open(file_name, 'rb').read())\n",
        "  return HTML(data='''<video width=\"{0}\" height=\"{1}\" alt=\"test\" controls>\n",
        "                        <source src=\"data:video/mp4;base64,{2}\" type=\"video/mp4\" />\n",
        "                      </video>'''.format(width, height, video_encoded.decode('ascii')))\n",
        "\n",
        "show_local_mp4_video('openpose/output/video/output.mp4', width=960, height=720)"
      ],
      "execution_count": 0,
      "outputs": []
    },
    {
      "cell_type": "markdown",
      "metadata": {
        "id": "6BeI9q4ffu2M",
        "colab_type": "text"
      },
      "source": [
        "**And make file zip to download**"
      ]
    },
    {
      "cell_type": "code",
      "metadata": {
        "id": "KAFCvJAmfyKZ",
        "colab_type": "code",
        "colab": {}
      },
      "source": [
        "!rm -rf output.zip\n",
        "!zip -r output.zip openpose/output/"
      ],
      "execution_count": 0,
      "outputs": []
    }
  ]
}